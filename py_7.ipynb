{
  "nbformat": 4,
  "nbformat_minor": 0,
  "metadata": {
    "colab": {
      "provenance": [],
      "collapsed_sections": []
    },
    "kernelspec": {
      "name": "python3",
      "display_name": "Python 3"
    },
    "language_info": {
      "name": "python"
    }
  },
  "cells": [
    {
      "cell_type": "markdown",
      "source": [
        "python programe to display all integers with in range 100-200 whose sum of digit is an even number"
      ],
      "metadata": {
        "id": "V7goPmXNuuV-"
      }
    },
    {
      "cell_type": "code",
      "source": [
        "sum=0\n",
        "for  i in range(100,201):\n",
        "  num=str(i)\n",
        "  sum=(int(num[0])+int(num[1])+int(num[2]))\n",
        "  if sum%2==0:\n",
        "      print(num)\n",
        "\n",
        "     \n",
        "     \n"
      ],
      "metadata": {
        "colab": {
          "base_uri": "https://localhost:8080/"
        },
        "id": "B92DDa3su3K0",
        "outputId": "d1dcec5f-adb9-4694-bd3d-3beb29e4548d"
      },
      "execution_count": null,
      "outputs": [
        {
          "output_type": "stream",
          "name": "stdout",
          "text": [
            "101\n",
            "103\n",
            "105\n",
            "107\n",
            "109\n",
            "110\n",
            "112\n",
            "114\n",
            "116\n",
            "118\n",
            "121\n",
            "123\n",
            "125\n",
            "127\n",
            "129\n",
            "130\n",
            "132\n",
            "134\n",
            "136\n",
            "138\n",
            "141\n",
            "143\n",
            "145\n",
            "147\n",
            "149\n",
            "150\n",
            "152\n",
            "154\n",
            "156\n",
            "158\n",
            "161\n",
            "163\n",
            "165\n",
            "167\n",
            "169\n",
            "170\n",
            "172\n",
            "174\n",
            "176\n",
            "178\n",
            "181\n",
            "183\n",
            "185\n",
            "187\n",
            "189\n",
            "190\n",
            "192\n",
            "194\n",
            "196\n",
            "198\n",
            "200\n"
          ]
        }
      ]
    },
    {
      "cell_type": "code",
      "source": [
        "list=[]\n",
        "for i in range(100,201):\n",
        "  i=str(i)\n",
        "  sum=0\n",
        "  for j in i:\n",
        "    j=int(j)\n",
        "    sum=sum+j\n",
        "  if sum%2==0:\n",
        "    list.append(i)\n",
        "print(list)      "
      ],
      "metadata": {
        "colab": {
          "base_uri": "https://localhost:8080/"
        },
        "id": "D_iU-s3d3qxR",
        "outputId": "0a2f5644-640b-40cd-9dee-0eeb2ae3aa04"
      },
      "execution_count": null,
      "outputs": [
        {
          "output_type": "stream",
          "name": "stdout",
          "text": [
            "['101', '103', '105', '107', '109', '110', '112', '114', '116', '118', '121', '123', '125', '127', '129', '130', '132', '134', '136', '138', '141', '143', '145', '147', '149', '150', '152', '154', '156', '158', '161', '163', '165', '167', '169', '170', '172', '174', '176', '178', '181', '183', '185', '187', '189', '190', '192', '194', '196', '198', '200']\n"
          ]
        }
      ]
    },
    {
      "cell_type": "markdown",
      "source": [
        "python program to find the largest number and its position in a list without using build-in functions"
      ],
      "metadata": {
        "id": "1sMMGCGw5S7u"
      }
    },
    {
      "cell_type": "code",
      "source": [
        "a=[2,1,4,5,6,12]\n",
        "n=len(a)\n",
        "num=0\n",
        "for i in range(n):\n",
        "  if a[i]>num:\n",
        "      num=a[i]\n",
        "      index=i\n",
        "    \n",
        "        \n",
        "print(\"the largest number is \",num,\"and its position is at \",index)\n",
        "\n",
        "\n",
        "\n",
        "\n"
      ],
      "metadata": {
        "colab": {
          "base_uri": "https://localhost:8080/"
        },
        "id": "VZ_ooOb_5k02",
        "outputId": "70c514b7-eb25-4605-f007-2e1c3ef230fd"
      },
      "execution_count": null,
      "outputs": [
        {
          "output_type": "stream",
          "name": "stdout",
          "text": [
            "the largest number is  12 and its position is at  5\n"
          ]
        }
      ]
    },
    {
      "cell_type": "markdown",
      "source": [
        "Have the function StringChallenge(str)take the str parameters being passed which will contain the\n",
        "numbers 2 through 9,and determine if there is a consecutive stream of digits of atleast N length\n",
        "where N is the actual digit value. If so,return the string false .For examplenif str is “6539923335”then\n",
        "your program should return the string true because there is a consecutive stream of 3’s of length 3.\n",
        "The input string always contain at least one digit"
      ],
      "metadata": {
        "id": "dMz78PHtgh4I"
      }
    },
    {
      "cell_type": "code",
      "source": [
        "\n",
        "def StringChallenge(str):\n",
        "    l=len(str)\n",
        "    for i in range(l):\n",
        "        count=1\n",
        "        for j in range(i+1,l):\n",
        "           if str[i] != str[j] :\n",
        "                    break\n",
        "           else:\n",
        "               count+=1\n",
        "               if count==int(str[i]) :\n",
        "                 \n",
        "                 return True\n",
        "               \n",
        "    else:\n",
        "        return False\n",
        "          \n",
        "StringChallenge(\"1223\")"
      ],
      "metadata": {
        "colab": {
          "base_uri": "https://localhost:8080/"
        },
        "id": "-WV988qkPcrs",
        "outputId": "1074f147-315e-40ca-dca5-e9806bbbedb3"
      },
      "execution_count": null,
      "outputs": [
        {
          "output_type": "execute_result",
          "data": {
            "text/plain": [
              "True"
            ]
          },
          "metadata": {},
          "execution_count": 69
        }
      ]
    }
  ]
}